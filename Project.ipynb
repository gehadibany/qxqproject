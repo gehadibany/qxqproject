{
 "cells": [
  {
   "cell_type": "markdown",
   "id": "291d0e53-c1f3-4ce0-b56d-8e6288b5794d",
   "metadata": {},
   "source": [
    "# Key generation "
   ]
  },
  {
   "cell_type": "code",
   "execution_count": 1,
   "id": "54842662-4729-4d7f-9525-1a6805330792",
   "metadata": {},
   "outputs": [],
   "source": [
    "import cirq\n",
    "from random import choices"
   ]
  },
  {
   "cell_type": "code",
   "execution_count": 2,
   "id": "4245b1a0-4402-467a-a18e-04ce1af41a58",
   "metadata": {},
   "outputs": [],
   "source": [
    "encode_gates = {0: cirq.I, 1: cirq.X}\n",
    "basis_gates = {'Z': cirq.I, 'X': cirq.H} \n",
    "\n",
    "num_bits = 2000\n",
    "qubits = cirq.NamedQubit.range(num_bits, prefix = 'q')"
   ]
  },
  {
   "cell_type": "code",
   "execution_count": 3,
   "id": "a82c1a2e-fbdb-4b9c-9bbf-e31c94bdce87",
   "metadata": {},
   "outputs": [],
   "source": [
    "alice_key = choices([0,1], k =num_bits)\n",
    "\n",
    "#print('Alice\\'s initial key: ', alice_key)"
   ]
  },
  {
   "cell_type": "code",
   "execution_count": 4,
   "id": "a1179a69-56d0-49a9-801e-73d5346e2ccb",
   "metadata": {},
   "outputs": [],
   "source": [
    "alice_bases = choices(['Z', 'X'], k =num_bits)\n",
    "\n",
    "#print('\\nAlice\\'s randomly chosen bases: ', alice_bases)"
   ]
  },
  {
   "cell_type": "code",
   "execution_count": 5,
   "id": "dd7a2372-14c3-4229-8cc8-362b72c814c6",
   "metadata": {},
   "outputs": [],
   "source": [
    "alice_circuit = cirq.Circuit()\n",
    "\n",
    "for bit in range(num_bits):\n",
    "\n",
    "  encode_value = alice_key[bit]\n",
    "  encode_gate = encode_gates[encode_value]\n",
    "\n",
    "  basis_value = alice_bases[bit]\n",
    "  basis_gate = basis_gates[basis_value]\n",
    "\n",
    "  qubit = qubits[bit]\n",
    "  alice_circuit.append(encode_gate(qubit))\n",
    "  alice_circuit.append(basis_gate(qubit))"
   ]
  },
  {
   "cell_type": "code",
   "execution_count": 6,
   "id": "fef2fb43-968d-4fda-bc1c-06e0cf5c1e36",
   "metadata": {},
   "outputs": [],
   "source": [
    "bob_bases = choices(['Z', 'X'], k=num_bits)\n",
    "\n",
    "\n",
    "bob_circuit = cirq.Circuit()\n",
    "\n",
    "for bit in range (num_bits):\n",
    "\n",
    "  basis_value = bob_bases[bit]\n",
    "  basis_gate = basis_gates[basis_value]\n",
    "\n",
    "  qubit = qubits[bit]\n",
    "  bob_circuit.append(basis_gate(qubit))"
   ]
  },
  {
   "cell_type": "code",
   "execution_count": 7,
   "id": "5e4b9d1a-3015-48b2-b8af-d2b07d7722b0",
   "metadata": {},
   "outputs": [],
   "source": [
    "bob_circuit.append(cirq.measure(qubits, key = 'bob key') )\n",
    "\n",
    "#print(bob_circuit)"
   ]
  },
  {
   "cell_type": "code",
   "execution_count": 8,
   "id": "2d7e0788-671a-49d4-bbf1-52d4c17b80ed",
   "metadata": {},
   "outputs": [],
   "source": [
    "bb84_circuit = alice_circuit + bob_circuit\n",
    "\n",
    "sim = cirq.Simulator()\n",
    "results = sim.run(bb84_circuit)\n",
    "bob_key = results.measurements['bob key'][0]\n",
    "\n",
    "#print('\\nBob\\'s initial key: ', bob_key)"
   ]
  },
  {
   "cell_type": "code",
   "execution_count": 9,
   "id": "b50abcc4-d7ca-4cdd-9278-d357e03622c2",
   "metadata": {},
   "outputs": [],
   "source": [
    "final_alice_key = []\n",
    "final_bob_key = []\n",
    "\n",
    "for bit in range(num_bits):\n",
    "\n",
    "  if alice_bases[bit] == bob_bases[bit]:\n",
    "    final_alice_key.append(alice_key[bit])\n",
    "    final_bob_key.append(bob_key[bit])\n",
    "\n",
    "#print('\\nAlice\\'s key: ', final_alice_key)\n",
    "#print('Bob\\'s key: ', final_bob_key)"
   ]
  },
  {
   "cell_type": "code",
   "execution_count": 10,
   "id": "e642f90c-0a6b-4fa5-822e-3c80c29ab0ab",
   "metadata": {},
   "outputs": [
    {
     "name": "stdout",
     "output_type": "stream",
     "text": [
      "\n",
      "\n",
      "We can use our keys!\n",
      "Alice Key:  [1, 1, 1, 1, 0, 0, 0, 0, 0, 1, 1, 0, 0, 1, 0, 0, 0, 1, 0, 0, 0, 0, 1, 1, 1, 1, 0, 1, 1, 1, 1, 0, 1, 0, 0, 0, 1, 0, 0, 0, 0, 1, 1, 1, 0, 1, 1, 1, 0, 1, 1, 0, 0, 0, 1, 1, 0, 0, 1, 1, 1, 1, 1, 1, 0, 0, 1, 0, 0, 1, 0, 0, 0, 0, 1, 0, 1, 1, 0, 1, 1, 1, 0, 0, 0, 1, 0, 1, 0, 0, 1, 1, 0, 1, 1, 0, 0, 1, 0, 1, 1, 0, 0, 0, 0, 1, 1, 1, 0, 1, 0, 1, 0, 0, 1, 0, 0, 1, 1, 1, 0, 0, 1, 1, 0, 1, 0, 0, 1, 1, 0, 1, 0, 1, 0, 1, 0, 1, 1, 0, 1, 0, 0, 0, 0, 1, 1, 1, 1, 1, 0, 0, 1, 0, 1, 1, 0, 1, 1, 1, 0, 0, 0, 1, 0, 0, 0, 0, 0, 1, 1, 0, 0, 0, 0, 0, 1, 0, 0, 0, 0, 1, 1, 0, 1, 0, 0, 1, 1, 0, 0, 1, 1, 0, 1, 0, 0, 1, 0, 1, 0, 1, 0, 0, 1, 1, 0, 0, 1, 1, 0, 1, 1, 0, 0, 0, 0, 0, 0, 0, 1, 1, 1, 0, 0, 1, 1, 1, 1, 0, 0, 1, 0, 0, 1, 1, 1, 1, 1, 1, 1, 1, 0, 0, 1, 1, 1, 1, 1, 1, 0, 1, 0, 0, 0, 0, 1, 0, 0, 1, 1, 0, 0, 0, 1, 1, 1, 0, 0, 0, 1, 1, 1, 0, 0, 0, 1, 0, 0, 0, 1, 1, 1, 1, 1, 0, 1, 0, 0, 0, 0, 1, 1, 1, 0, 0, 1, 0, 0, 0, 1, 0, 1, 1, 0, 0, 0, 0, 1, 1, 1, 1, 1, 1, 0, 1, 1, 0, 0, 0, 0, 0, 1, 0, 0, 1, 1, 1, 1, 0, 1, 1, 0, 0, 1, 0, 0, 0, 1, 0, 1, 0, 1, 1, 1, 0, 1, 0, 0, 0, 0, 0, 0, 1, 1, 1, 1, 0, 0, 1, 0, 0, 1, 0, 1, 0, 1, 1, 0, 1, 0, 1, 0, 0, 1, 0, 0, 1, 0, 0, 1, 0, 1, 1, 1, 1, 0, 1, 0, 0, 0, 1, 1, 0, 0, 1, 0, 0, 0, 0, 1, 1, 0, 1, 0, 0, 1, 0, 0, 0, 1, 0, 0, 0, 1, 1, 1, 1, 1, 0, 0, 1, 1, 0, 0, 0, 1, 0, 1, 1, 1, 1, 0, 0, 1, 1, 0, 1, 0, 0, 0, 1, 1, 0, 0, 0, 0, 1, 1, 0, 1, 0, 0, 1, 1, 0, 0, 1, 0, 1, 0, 0, 1, 1, 0, 1, 1, 0, 0, 0, 0, 1, 1, 1, 0, 1, 0, 0, 0, 1, 0, 0, 0, 0, 1, 1, 0, 1, 1, 0, 0, 1, 0, 0, 1, 0, 0, 0, 1, 0, 1, 0, 0]\n",
      "Bob Key:  [1, 1, 1, 1, 0, 0, 0, 0, 0, 1, 1, 0, 0, 1, 0, 0, 0, 1, 0, 0, 0, 0, 1, 1, 1, 1, 0, 1, 1, 1, 1, 0, 1, 0, 0, 0, 1, 0, 0, 0, 0, 1, 1, 1, 0, 1, 1, 1, 0, 1, 1, 0, 0, 0, 1, 1, 0, 0, 1, 1, 1, 1, 1, 1, 0, 0, 1, 0, 0, 1, 0, 0, 0, 0, 1, 0, 1, 1, 0, 1, 1, 1, 0, 0, 0, 1, 0, 1, 0, 0, 1, 1, 0, 1, 1, 0, 0, 1, 0, 1, 1, 0, 0, 0, 0, 1, 1, 1, 0, 1, 0, 1, 0, 0, 1, 0, 0, 1, 1, 1, 0, 0, 1, 1, 0, 1, 0, 0, 1, 1, 0, 1, 0, 1, 0, 1, 0, 1, 1, 0, 1, 0, 0, 0, 0, 1, 1, 1, 1, 1, 0, 0, 1, 0, 1, 1, 0, 1, 1, 1, 0, 0, 0, 1, 0, 0, 0, 0, 0, 1, 1, 0, 0, 0, 0, 0, 1, 0, 0, 0, 0, 1, 1, 0, 1, 0, 0, 1, 1, 0, 0, 1, 1, 0, 1, 0, 0, 1, 0, 1, 0, 1, 0, 0, 1, 1, 0, 0, 1, 1, 0, 1, 1, 0, 0, 0, 0, 0, 0, 0, 1, 1, 1, 0, 0, 1, 1, 1, 1, 0, 0, 1, 0, 0, 1, 1, 1, 1, 1, 1, 1, 1, 0, 0, 1, 1, 1, 1, 1, 1, 0, 1, 0, 0, 0, 0, 1, 0, 0, 1, 1, 0, 0, 0, 1, 1, 1, 0, 0, 0, 1, 1, 1, 0, 0, 0, 1, 0, 0, 0, 1, 1, 1, 1, 1, 0, 1, 0, 0, 0, 0, 1, 1, 1, 0, 0, 1, 0, 0, 0, 1, 0, 1, 1, 0, 0, 0, 0, 1, 1, 1, 1, 1, 1, 0, 1, 1, 0, 0, 0, 0, 0, 1, 0, 0, 1, 1, 1, 1, 0, 1, 1, 0, 0, 1, 0, 0, 0, 1, 0, 1, 0, 1, 1, 1, 0, 1, 0, 0, 0, 0, 0, 0, 1, 1, 1, 1, 0, 0, 1, 0, 0, 1, 0, 1, 0, 1, 1, 0, 1, 0, 1, 0, 0, 1, 0, 0, 1, 0, 0, 1, 0, 1, 1, 1, 1, 0, 1, 0, 0, 0, 1, 1, 0, 0, 1, 0, 0, 0, 0, 1, 1, 0, 1, 0, 0, 1, 0, 0, 0, 1, 0, 0, 0, 1, 1, 1, 1, 1, 0, 0, 1, 1, 0, 0, 0, 1, 0, 1, 1, 1, 1, 0, 0, 1, 1, 0, 1, 0, 0, 0, 1, 1, 0, 0, 0, 0, 1, 1, 0, 1, 0, 0, 1, 1, 0, 0, 1, 0, 1, 0, 0, 1, 1, 0, 1, 1, 0, 0, 0, 0, 1, 1, 1, 0, 1, 0, 0, 0, 1, 0, 0, 0, 0, 1, 1, 0, 1, 1, 0, 0, 1, 0, 0, 1, 0, 0, 0, 1, 0, 1, 0, 0]\n"
     ]
    }
   ],
   "source": [
    "num_bits_to_compare = int(len(final_alice_key) * .5)\n",
    "if final_alice_key[0:num_bits_to_compare] == final_bob_key[0:num_bits_to_compare]:\n",
    "  final_alice_key = final_alice_key[num_bits_to_compare:]\n",
    "  final_bob_key = final_bob_key[num_bits_to_compare:]\n",
    "\n",
    "  print('\\n\\nWe can use our keys!')\n",
    "  print('Alice Key: ', final_alice_key)\n",
    "  print('Bob Key: ', final_bob_key)\n",
    "\n",
    "else:\n",
    "  print('\\n\\nEve was listening, we need to use a different channel!')"
   ]
  },
  {
   "cell_type": "markdown",
   "id": "447f7837-fec2-4561-acf9-000fdbc3e76d",
   "metadata": {},
   "source": [
    "# Encryption"
   ]
  },
  {
   "cell_type": "code",
   "execution_count": 11,
   "id": "4551d76c-d92e-45fe-b011-d26a31f0b214",
   "metadata": {},
   "outputs": [],
   "source": [
    "def concat_ints(key_list):\n",
    "    # Convert each integer in the list to a string and concatenate\n",
    "    concatenated_string = ''.join(str(num) for num in key_list)\n",
    "    return concatenated_string\n"
   ]
  },
  {
   "cell_type": "code",
   "execution_count": 12,
   "id": "b2aaa44f-fd3c-4463-97ff-9b73720f279c",
   "metadata": {},
   "outputs": [],
   "source": [
    "def text_to_binary(text):\n",
    "    # Converts text to 8-bit binary for each character\n",
    "    return ''.join(format(ord(char), '08b') for char in text)"
   ]
  },
  {
   "cell_type": "code",
   "execution_count": 13,
   "id": "d23499c1-36eb-4e96-81dc-71297f28b24f",
   "metadata": {},
   "outputs": [],
   "source": [
    "def xor_encrypt(message, key):\n",
    "    # Check if the key is long enough to encrypt the message (i.e. not shorter than the message)\n",
    "    if len(key) < len(message):\n",
    "        print ('ERROR!! Key is too short.\\n SOLUTION: Use a shorter message. \\n OR Use a higher num_bits in the key generation for the decryptor to work.')\n",
    "    else:\n",
    "        encrypted_binary = ''.join('1' if message[i] != key[i] else '0' for i in range(len(message)))\n",
    "        return encrypted_binary\n"
   ]
  },
  {
   "cell_type": "code",
   "execution_count": 14,
   "id": "791a173c-7f02-4276-917a-bad4ada3fe6f",
   "metadata": {},
   "outputs": [],
   "source": [
    "def binary_to_text(binary):\n",
    "    # Converts encrypted binary message to an encrypted text mesage\n",
    "    return ''.join(chr(int(binary[i:i+8], 2)) for i in range(0, len(binary), 8))\n"
   ]
  },
  {
   "cell_type": "code",
   "execution_count": 15,
   "id": "1f735d2c-d5a8-4f32-8d87-da30771a6db8",
   "metadata": {},
   "outputs": [],
   "source": [
    "def encryptor ():\n",
    "    \n",
    "    initial_message = input(\"Please enter the message you want to encrypt and send:\")\n",
    "    message_binary = text_to_binary(initial_message)\n",
    "    key_list = final_alice_key\n",
    "    final_key = concat_ints(key_list)\n",
    "    encrypted = xor_encrypt(message_binary, final_key)\n",
    "    final_encrypted = binary_to_text(encrypted)\n",
    "    \n",
    "    return final_encrypted"
   ]
  },
  {
   "cell_type": "code",
   "execution_count": 17,
   "id": "1e6fceb3-8a79-49c0-a86a-dc4c6f534a47",
   "metadata": {},
   "outputs": [
    {
     "name": "stdin",
     "output_type": "stream",
     "text": [
      "Please enter the message you want to encrypt and send: I love quantum mechanics.\n"
     ]
    },
    {
     "data": {
      "text/plain": [
       "'¹D/±þ\\x12CNQL«B-\\x18\\x07Y°\\x0b\\x14Ö~\\tåê\\x8b'"
      ]
     },
     "execution_count": 17,
     "metadata": {},
     "output_type": "execute_result"
    }
   ],
   "source": [
    "encryptor()"
   ]
  },
  {
   "cell_type": "markdown",
   "id": "a5997575-f668-4f75-a3d6-7fc7c4258335",
   "metadata": {},
   "source": [
    "# Decryption"
   ]
  },
  {
   "cell_type": "code",
   "execution_count": 30,
   "id": "600a96e4-8dab-4a1d-adc4-98696610b331",
   "metadata": {},
   "outputs": [],
   "source": [
    "def decryptor (received_message):\n",
    "    received_message_binary = text_to_binary(received_message)\n",
    "    key_list = final_bob_key\n",
    "    final_key = concat_ints(key_list)\n",
    "    decrypted = xor_encrypt(received_message_binary, final_key)\n",
    "    final_decrypted = binary_to_text(decrypted)\n",
    "    return final_decrypted"
   ]
  },
  {
   "cell_type": "code",
   "execution_count": 31,
   "id": "b9745b39-e5e7-4c93-bdcd-25992c50c61f",
   "metadata": {},
   "outputs": [
    {
     "data": {
      "text/plain": [
       "'I love quantum mechanics.'"
      ]
     },
     "execution_count": 31,
     "metadata": {},
     "output_type": "execute_result"
    }
   ],
   "source": [
    "decryptor('¹D/±þ\\x12CNQL«B-\\x18\\x07Y°\\x0b\\x14Ö~\\tåê\\x8b')"
   ]
  },
  {
   "cell_type": "code",
   "execution_count": null,
   "id": "1fd69ebf-2c56-4bb5-9a6c-0fc7679a1917",
   "metadata": {},
   "outputs": [],
   "source": []
  }
 ],
 "metadata": {
  "kernelspec": {
   "display_name": "Python 3 (ipykernel)",
   "language": "python",
   "name": "python3"
  },
  "language_info": {
   "codemirror_mode": {
    "name": "ipython",
    "version": 3
   },
   "file_extension": ".py",
   "mimetype": "text/x-python",
   "name": "python",
   "nbconvert_exporter": "python",
   "pygments_lexer": "ipython3",
   "version": "3.11.8"
  }
 },
 "nbformat": 4,
 "nbformat_minor": 5
}
